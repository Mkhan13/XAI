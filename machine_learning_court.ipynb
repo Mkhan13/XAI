{
  "cells": [
    {
      "cell_type": "markdown",
      "metadata": {
        "id": "qisUgswkVmwq"
      },
      "source": [
        "# AIPI 590 - XAI | Explainable Techniques 1\n",
        "### Machine Learning Court\n",
        "### Mariam Khan\n",
        "\n",
        "[![Open In Collab](https://colab.research.google.com/assets/colab-badge.svg)](https://colab.research.google.com/github/Mkhan13/XAI/blob/explainable_ml/machine_learning_court.ipynb)"
      ]
    },
    {
      "cell_type": "markdown",
      "source": [
        "## 🩺 Case 2: Tumor Misclassification – Breast Cancer Dataset\n",
        "#### 🔍 Scenario\n",
        "Patient X received a benign classification from an AI tumor diagnostic tool and was not referred for a biopsy. Months later, the tumor was diagnosed as malignant. The model’s output is now under scrutiny.\n",
        "\n",
        "#### 🟥 Prosecution\n",
        "Use explanation tools to evaluate how the model arrived at this decision. Consider whether any key medical indicators might have been overlooked or minimized."
      ],
      "metadata": {
        "id": "m3g4b4R48Zx2"
      }
    },
    {
      "cell_type": "code",
      "source": [
        "# 🧬 Case 2: Tumor Misclassification (Breast Cancer Dataset)\n",
        "from sklearn.datasets import load_breast_cancer\n",
        "from sklearn.ensemble import RandomForestClassifier\n",
        "from sklearn.model_selection import train_test_split\n",
        "from sklearn.metrics import classification_report\n",
        "import pandas as pd\n",
        "\n",
        "# Load dataset\n",
        "data = load_breast_cancer()\n",
        "df_bc = pd.DataFrame(data.data, columns=data.feature_names)\n",
        "df_bc['target'] = data.target  # 0 = malignant, 1 = benign\n",
        "\n",
        "# Train/test split\n",
        "X = df_bc.drop(\"target\", axis=1)\n",
        "y = df_bc[\"target\"]\n",
        "X_train, X_test, y_train, y_test = train_test_split(X, y, test_size=0.2, random_state=42)\n",
        "\n",
        "# Train model\n",
        "model_bc = RandomForestClassifier(random_state=42)\n",
        "model_bc.fit(X_train, y_train)\n",
        "print(classification_report(y_test, model_bc.predict(X_test)))"
      ],
      "metadata": {
        "colab": {
          "base_uri": "https://localhost:8080/"
        },
        "id": "2epsPceN8gTL",
        "outputId": "b857d3fa-9612-4cb5-8bf5-c78bea4904d8"
      },
      "execution_count": 1,
      "outputs": [
        {
          "output_type": "stream",
          "name": "stdout",
          "text": [
            "              precision    recall  f1-score   support\n",
            "\n",
            "           0       0.98      0.93      0.95        43\n",
            "           1       0.96      0.99      0.97        71\n",
            "\n",
            "    accuracy                           0.96       114\n",
            "   macro avg       0.97      0.96      0.96       114\n",
            "weighted avg       0.97      0.96      0.96       114\n",
            "\n"
          ]
        }
      ]
    },
    {
      "cell_type": "code",
      "source": [
        "# 🧬 Focus Instance (Tumor Misclassification - Patient X)\n",
        "focus_instance_bc = pd.DataFrame([{\n",
        "    \"mean radius\": 13.80,\n",
        "    \"mean texture\": 15.79,\n",
        "    \"mean perimeter\": 90.43,\n",
        "    \"mean area\": 584.1,\n",
        "    \"mean smoothness\": 0.1007,\n",
        "    \"mean compactness\": 0.1280,\n",
        "    \"mean concavity\": 0.07789,\n",
        "    \"mean concave points\": 0.05069,\n",
        "    \"mean symmetry\": 0.1662,\n",
        "    \"mean fractal dimension\": 0.06566,\n",
        "    \"radius error\": 0.4101,\n",
        "    \"texture error\": 1.074,\n",
        "    \"perimeter error\": 2.635,\n",
        "    \"area error\": 40.14,\n",
        "    \"smoothness error\": 0.00541,\n",
        "    \"compactness error\": 0.02204,\n",
        "    \"concavity error\": 0.01664,\n",
        "    \"concave points error\": 0.01185,\n",
        "    \"symmetry error\": 0.02095,\n",
        "    \"fractal dimension error\": 0.004902,\n",
        "    \"worst radius\": 16.57,\n",
        "    \"worst texture\": 20.86,\n",
        "    \"worst perimeter\": 110.3,\n",
        "    \"worst area\": 812.4,\n",
        "    \"worst smoothness\": 0.1411,\n",
        "    \"worst compactness\": 0.3542,\n",
        "    \"worst concavity\": 0.2779,\n",
        "    \"worst concave points\": 0.1383,\n",
        "    \"worst symmetry\": 0.2589,\n",
        "    \"worst fractal dimension\": 0.1030\n",
        "}])\n",
        "\n",
        "# Run prediction\n",
        "pred = model_bc.predict(focus_instance_bc)\n",
        "print(\"Prediction for Patient X:\", \"Benign → No Biopsy\" if pred[0] == 1 else \"Malignant → Action Needed\")\n"
      ],
      "metadata": {
        "colab": {
          "base_uri": "https://localhost:8080/"
        },
        "id": "pemK9oqH8g1W",
        "outputId": "90b92e14-155e-4e87-8b86-f034f3f25db8"
      },
      "execution_count": 2,
      "outputs": [
        {
          "output_type": "stream",
          "name": "stdout",
          "text": [
            "Prediction for Patient X: Benign → No Biopsy\n"
          ]
        }
      ]
    }
  ],
  "metadata": {
    "language_info": {
      "name": "python"
    },
    "colab": {
      "provenance": []
    },
    "kernelspec": {
      "name": "python3",
      "display_name": "Python 3"
    }
  },
  "nbformat": 4,
  "nbformat_minor": 0
}