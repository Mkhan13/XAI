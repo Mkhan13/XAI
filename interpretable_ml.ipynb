{
  "cells": [
    {
      "cell_type": "markdown",
      "metadata": {
        "id": "gufJDNLVTWPt"
      },
      "source": [
        "# AIPI 590 - XAI | Interpretable AI\n",
        "### Understand a dataset and develop interpretable models to make predictions\n",
        "### Mariam Khan\n",
        "\n",
        "[![Open In Collab](https://colab.research.google.com/assets/colab-badge.svg)](https://colab.research.google.com/github/Mkhan13/XAI/blob/interpretable_ml_assignment/khan_interpretable_ml.ipynb)"
      ]
    },
    {
      "cell_type": "code",
      "source": [
        "#installs\n",
        "!pip install kaggle"
      ],
      "metadata": {
        "id": "eo77EMnLs5Z0"
      },
      "execution_count": null,
      "outputs": []
    },
    {
      "cell_type": "code",
      "source": [
        "#imports\n",
        "from google.colab import userdata\n",
        "import os"
      ],
      "metadata": {
        "id": "REyJe38NRgoS"
      },
      "execution_count": null,
      "outputs": []
    },
    {
      "cell_type": "code",
      "source": [
        "# Set Kaggle credentials\n",
        "os.environ['KAGGLE_USERNAME'] = userdata.get('KAGGLE_USERNAME')\n",
        "os.environ['KAGGLE_KEY'] = userdata.get('KAGGLE_KEY')\n",
        "\n",
        "# Download dataset\n",
        "!kaggle datasets download -d blastchar/telco-customer-churn\n",
        "!unzip telco-customer-churn.zip -d telco_data"
      ],
      "metadata": {
        "id": "xdpY0oqTPvlk"
      },
      "execution_count": null,
      "outputs": []
    },
    {
      "cell_type": "code",
      "source": [
        "import pandas as pd\n",
        "df = pd.read_csv('telco_data/WA_Fn-UseC_-Telco-Customer-Churn.csv')"
      ],
      "metadata": {
        "id": "25qLQqIhRECa"
      },
      "execution_count": null,
      "outputs": []
    },
    {
      "cell_type": "markdown",
      "source": [
        "### **1. Exploratory Data Analysis to check Assumptions**\n",
        "Perform an exploratory analysis of the dataset to understand the relationships between different features and the target variable (churn). Use appropriate visualizations and statistical methods to determine whether assumptions about linear, logistic, and GAM models are met."
      ],
      "metadata": {
        "id": "cjMY9u98SWYL"
      }
    },
    {
      "cell_type": "code",
      "source": [],
      "metadata": {
        "id": "lUNVsxepR0_j"
      },
      "execution_count": null,
      "outputs": []
    },
    {
      "cell_type": "markdown",
      "source": [
        "###**2. Linear Regression**\n",
        "Treat the churn variable as a continuous variable (e.g., O for staying, 1 for churning) and build a linear regression model to predict churn.\n",
        "Interpret the coefficients and assess the model's performance.\n"
      ],
      "metadata": {
        "id": "rSlbJQxSSs7a"
      }
    },
    {
      "cell_type": "code",
      "source": [],
      "metadata": {
        "id": "BGTvJpGmStON"
      },
      "execution_count": null,
      "outputs": []
    },
    {
      "cell_type": "markdown",
      "source": [
        "###**3. Logistic Regression**\n",
        "Treat churn as a binary variable and build a logistic regression model to predict the probability of churn. Interpret the coefficients.\n"
      ],
      "metadata": {
        "id": "TGx_jdSiStnF"
      }
    },
    {
      "cell_type": "code",
      "source": [],
      "metadata": {
        "id": "RYKNPlKzSt2A"
      },
      "execution_count": null,
      "outputs": []
    },
    {
      "cell_type": "markdown",
      "source": [
        "###**4. Generalized Additive Model (GAM)**\n",
        "Build a GAM to model the non-linear relationships between customer features and churn. Interpret the GAM model."
      ],
      "metadata": {
        "id": "loVWt4OSSt9q"
      }
    },
    {
      "cell_type": "code",
      "source": [],
      "metadata": {
        "id": "mLyZ4c0ISuEw"
      },
      "execution_count": null,
      "outputs": []
    },
    {
      "cell_type": "markdown",
      "source": [
        "### **5. Model Comparison**\n",
        "Compare the performance and interpretability of the different models you built. Discuss the strengths and weaknesses of each approach and provide recommendations for which model(s) the telecommunications company should use to address their customer churn problem."
      ],
      "metadata": {
        "id": "bE0UQeU5SuLv"
      }
    },
    {
      "cell_type": "code",
      "source": [],
      "metadata": {
        "id": "zH9JEjbeSuSk"
      },
      "execution_count": null,
      "outputs": []
    }
  ],
  "metadata": {
    "language_info": {
      "name": "python"
    },
    "colab": {
      "provenance": []
    },
    "kernelspec": {
      "name": "python3",
      "display_name": "Python 3"
    }
  },
  "nbformat": 4,
  "nbformat_minor": 0
}