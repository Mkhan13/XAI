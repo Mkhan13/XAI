{
  "cells": [
    {
      "cell_type": "markdown",
      "metadata": {
        "id": "qisUgswkVmwq"
      },
      "source": [
        "# AIPI 590 - XAI | Human-AI Interaction\n",
        "### A code tutorial explaining LIME in code\n",
        "### Mariam Khan\n",
        "\n",
        "[![Open In Collab](https://colab.research.google.com/assets/colab-badge.svg)](https://colab.research.google.com/github/Mkhan13/XAI/blob/main/human_ai_interaction.ipynb)"
      ]
    },
    {
      "cell_type": "markdown",
      "source": [
        "# LIME\n",
        "\n",
        "LIME (Local Interpretable Model-agnostic Explanations) helps us understand why a machine learning model made a specific prediction by creating a local, interpretable model around one specific instance. From the explainable AI lecture, the LIME Process is:\n",
        "\n",
        "\n",
        "1. Select instance of interest\n",
        "2. Perturb your dataset and get black box predictions for perturbed samples\n",
        "3. Generate a new dataset consisting of perturbed samples (variations of your data) and the corresponding predictions\n",
        "4. Train an interpretable model, weighted by the proximity of sampled instances to the instance of interest\n",
        "5. Interpret the local model to explain prediction\n"
      ],
      "metadata": {
        "id": "6782GM6gTldM"
      }
    },
    {
      "cell_type": "code",
      "source": [
        "!pip install lime"
      ],
      "metadata": {
        "id": "-G33eXtVI9ns"
      },
      "execution_count": null,
      "outputs": []
    },
    {
      "cell_type": "code",
      "source": [
        "# Imports\n",
        "import matplotlib.pyplot as plt\n",
        "from sklearn.datasets import load_digits\n",
        "from sklearn.model_selection import train_test_split\n",
        "from sklearn.preprocessing import StandardScaler\n",
        "from sklearn.ensemble import RandomForestClassifier\n",
        "from lime.lime_tabular import LimeTabularExplainer"
      ],
      "metadata": {
        "id": "Hi7Qfe9N4_FU"
      },
      "execution_count": 53,
      "outputs": []
    },
    {
      "cell_type": "markdown",
      "source": [
        "## Load and Prepare Dataset and Model"
      ],
      "metadata": {
        "id": "rrIYKLj6Fjoe"
      }
    },
    {
      "cell_type": "code",
      "source": [
        "digits = load_digits() # Digits dataset has handwritten digits 0-9\n",
        "X = digits.data\n",
        "y = digits.target\n",
        "\n",
        "X_train, X_test, y_train, y_test = train_test_split(X, y, test_size=0.2, random_state=42) # Train and test split\n",
        "\n",
        "scaler = StandardScaler() # Standardize features\n",
        "X_train_scaled = scaler.fit_transform(X_train)\n",
        "X_test_scaled = scaler.transform(X_test)\n",
        "\n",
        "model = RandomForestClassifier(random_state=42, n_estimators=500)\n",
        "model.fit(X_train_scaled, y_train)\n",
        "\n",
        "print(\"Model Accuracy:\", model.score(X_test_scaled, y_test))"
      ],
      "metadata": {
        "colab": {
          "base_uri": "https://localhost:8080/"
        },
        "id": "hYVeCJTqFj6A",
        "outputId": "01ad8457-b315-404b-f540-4072592fb264"
      },
      "execution_count": 59,
      "outputs": [
        {
          "output_type": "stream",
          "name": "stdout",
          "text": [
            "Model Accuracy: 0.9777777777777777\n"
          ]
        }
      ]
    },
    {
      "cell_type": "markdown",
      "source": [
        "## Step 1: Select Instance of Interest"
      ],
      "metadata": {
        "id": "A2L88xmu2MfA"
      }
    },
    {
      "cell_type": "code",
      "source": [
        "instance_index = 12 # Random instance to explain\n",
        "sample_instance = X_test[instance_index]\n",
        "true_label = y_test[instance_index]\n",
        "predicted_label = model.predict([sample_instance])[0]\n",
        "\n",
        "plt.imshow(digits.images[instance_index]) # Display image\n",
        "plt.title(f\"True Label: {true_label}, Predicted: {predicted_label}\")\n",
        "plt.show()"
      ],
      "metadata": {
        "colab": {
          "base_uri": "https://localhost:8080/",
          "height": 452
        },
        "id": "nmYSXjFs2Lu-",
        "outputId": "4a40c12d-9671-415d-bca2-60509b8d0caa"
      },
      "execution_count": 62,
      "outputs": [
        {
          "output_type": "display_data",
          "data": {
            "text/plain": [
              "<Figure size 640x480 with 1 Axes>"
            ],
            "image/png": "[encoded data removed]"
          },
          "metadata": {}
        }
      ]
    },
    {
      "cell_type": "markdown",
      "source": [
        "## Step 2/3: Perturb Your Dataset and Get Black-Box Predictions for Perturbed Samples and Generate a New Dataset"
      ],
      "metadata": {
        "id": "A4ZxWRDV2mwB"
      }
    },
    {
      "cell_type": "code",
      "source": [
        "explainer = LimeTabularExplainer( # Initialize LIME explainer for tabular data\n",
        "    training_data=X_train_scaled,\n",
        "    feature_names=[f'pixel_{i}' for i in range(X.shape[1])],\n",
        "    class_names=[str(i) for i in range(10)], # Convert class names to strings\n",
        "    mode='classification'\n",
        ")"
      ],
      "metadata": {
        "id": "Rbgu8sUl1Tz5"
      },
      "execution_count": 64,
      "outputs": []
    },
    {
      "cell_type": "markdown",
      "source": [
        "## Step 4: Train an Interpretable Model Weighted by Proximity"
      ],
      "metadata": {
        "id": "YsulA4ih2nsl"
      }
    },
    {
      "cell_type": "code",
      "source": [],
      "metadata": {
        "id": "u7xgHVJC2n1n"
      },
      "execution_count": 65,
      "outputs": []
    },
    {
      "cell_type": "markdown",
      "source": [
        "## Step 5: Interpret the Local Model to Explain the Prediction"
      ],
      "metadata": {
        "id": "GaetdMjb2oBx"
      }
    },
    {
      "cell_type": "code",
      "source": [],
      "metadata": {
        "id": "6vjWsOjV2oSd"
      },
      "execution_count": 66,
      "outputs": []
    }
  ],
  "metadata": {
    "language_info": {
      "name": "python"
    },
    "colab": {
      "provenance": []
    },
    "kernelspec": {
      "name": "python3",
      "display_name": "Python 3"
    }
  },
  "nbformat": 4,
  "nbformat_minor": 0
}