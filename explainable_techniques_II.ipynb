{
  "cells": [
    {
      "cell_type": "markdown",
      "metadata": {
        "id": "qisUgswkVmwq"
      },
      "source": [
        "# AIPI 590 - XAI | Explainable Techniques II\n",
        "### Exploratory analysis of a dataset to determine the amount of correlation between features\n",
        "### Mariam Khan\n",
        "\n",
        "[![Open In Collab](https://colab.research.google.com/assets/colab-badge.svg)](https://colab.research.google.com/github/Mkhan13/XAI/blob/explainable_ml/explainable_techniques_II.ipynb)"
      ]
    },
    {
      "cell_type": "code",
      "source": [
        "# Load dataset"
      ],
      "metadata": {
        "id": "slEtHwHk6mtv"
      },
      "execution_count": 1,
      "outputs": []
    },
    {
      "cell_type": "markdown",
      "source": [
        "### **PDP Plot**"
      ],
      "metadata": {
        "id": "tGuH4CwX68eK"
      }
    },
    {
      "cell_type": "code",
      "source": [],
      "metadata": {
        "id": "rStH2qYj7CSl"
      },
      "execution_count": null,
      "outputs": []
    },
    {
      "cell_type": "markdown",
      "source": [
        "*analysis of plots*"
      ],
      "metadata": {
        "id": "r9uItKG47NY0"
      }
    },
    {
      "cell_type": "markdown",
      "source": [
        "### **ICE Plot**"
      ],
      "metadata": {
        "id": "EsuzcxMu7Cyt"
      }
    },
    {
      "cell_type": "code",
      "source": [],
      "metadata": {
        "id": "NRf907GZ7HXS"
      },
      "execution_count": null,
      "outputs": []
    },
    {
      "cell_type": "markdown",
      "source": [
        "*analysis of plots*"
      ],
      "metadata": {
        "id": "hKysXpa27Xhz"
      }
    },
    {
      "cell_type": "markdown",
      "source": [
        "### **ALE Plot**"
      ],
      "metadata": {
        "id": "QbM64SAS7HrF"
      }
    },
    {
      "cell_type": "code",
      "source": [],
      "metadata": {
        "id": "dfgUka0M7LCJ"
      },
      "execution_count": null,
      "outputs": []
    },
    {
      "cell_type": "markdown",
      "source": [
        "*analysis of plots*"
      ],
      "metadata": {
        "id": "Wd6B_9SM7YIs"
      }
    },
    {
      "cell_type": "markdown",
      "source": [
        "### **Analysis**"
      ],
      "metadata": {
        "id": "zqVPd4tI7cAE"
      }
    },
    {
      "cell_type": "markdown",
      "source": [
        "*discussion of findings*"
      ],
      "metadata": {
        "id": "uN59_CBq7hRo"
      }
    }
  ],
  "metadata": {
    "language_info": {
      "name": "python"
    },
    "colab": {
      "provenance": []
    },
    "kernelspec": {
      "name": "python3",
      "display_name": "Python 3"
    }
  },
  "nbformat": 4,
  "nbformat_minor": 0
}