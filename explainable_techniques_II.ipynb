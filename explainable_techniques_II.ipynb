{
  "cells": [
    {
      "cell_type": "markdown",
      "metadata": {
        "id": "qisUgswkVmwq"
      },
      "source": [
        "# AIPI 590 - XAI | Explainable Techniques II\n",
        "### Exploratory analysis of a dataset to determine the amount of correlation between features\n",
        "### Mariam Khan\n",
        "\n",
        "[![Open In Collab](https://colab.research.google.com/assets/colab-badge.svg)](https://colab.research.google.com/github/Mkhan13/XAI/blob/explainable_ml/explainable_techniques_II.ipynb)"
      ]
    },
    {
      "cell_type": "code",
      "source": [
        "import os\n",
        "import pandas as pd\n",
        "\n",
        "repo_name = \"XAI\"\n",
        "branch_name = \"explainable_ml\"\n",
        "git_path = \"https://github.com/Mkhan13/XAI.git\"\n",
        "\n",
        "# If repo already exists, remove it first to avoid conflicts\n",
        "if os.path.exists(repo_name):\n",
        "    !rm -rf {repo_name}\n",
        "\n",
        "# Clone the branch\n",
        "!git clone -b {branch_name} {git_path}\n",
        "\n",
        "# Path to data folder\n",
        "data_dir = os.path.join(repo_name, \"data\", \"explainable_ml_II\")\n",
        "\n",
        "# Verify files exist\n",
        "print(\"Files in data folder:\", os.listdir(data_dir))"
      ],
      "metadata": {
        "colab": {
          "base_uri": "https://localhost:8080/"
        },
        "id": "dV_n-pk_UxRY",
        "outputId": "c48b9fb7-1ebe-4305-d800-12c0c9c82cea"
      },
      "execution_count": 8,
      "outputs": [
        {
          "output_type": "stream",
          "name": "stdout",
          "text": [
            "Cloning into 'XAI'...\n",
            "remote: Enumerating objects: 90, done.\u001b[K\n",
            "remote: Counting objects:   3% (1/29)\u001b[K\rremote: Counting objects:   6% (2/29)\u001b[K\rremote: Counting objects:  10% (3/29)\u001b[K\rremote: Counting objects:  13% (4/29)\u001b[K\rremote: Counting objects:  17% (5/29)\u001b[K\rremote: Counting objects:  20% (6/29)\u001b[K\rremote: Counting objects:  24% (7/29)\u001b[K\rremote: Counting objects:  27% (8/29)\u001b[K\rremote: Counting objects:  31% (9/29)\u001b[K\rremote: Counting objects:  34% (10/29)\u001b[K\rremote: Counting objects:  37% (11/29)\u001b[K\rremote: Counting objects:  41% (12/29)\u001b[K\rremote: Counting objects:  44% (13/29)\u001b[K\rremote: Counting objects:  48% (14/29)\u001b[K\rremote: Counting objects:  51% (15/29)\u001b[K\rremote: Counting objects:  55% (16/29)\u001b[K\rremote: Counting objects:  58% (17/29)\u001b[K\rremote: Counting objects:  62% (18/29)\u001b[K\rremote: Counting objects:  65% (19/29)\u001b[K\rremote: Counting objects:  68% (20/29)\u001b[K\rremote: Counting objects:  72% (21/29)\u001b[K\rremote: Counting objects:  75% (22/29)\u001b[K\rremote: Counting objects:  79% (23/29)\u001b[K\rremote: Counting objects:  82% (24/29)\u001b[K\rremote: Counting objects:  86% (25/29)\u001b[K\rremote: Counting objects:  89% (26/29)\u001b[K\rremote: Counting objects:  93% (27/29)\u001b[K\rremote: Counting objects:  96% (28/29)\u001b[K\rremote: Counting objects: 100% (29/29)\u001b[K\rremote: Counting objects: 100% (29/29), done.\u001b[K\n",
            "remote: Compressing objects: 100% (18/18), done.\u001b[K\n",
            "remote: Total 90 (delta 18), reused 11 (delta 11), pack-reused 61 (from 1)\u001b[K\n",
            "Receiving objects: 100% (90/90), 1.22 MiB | 8.37 MiB/s, done.\n",
            "Resolving deltas: 100% (33/33), done.\n",
            "Files in data folder: ['zoo.csv', 'class.csv']\n"
          ]
        }
      ]
    },
    {
      "cell_type": "code",
      "source": [
        "# Load CSV\n",
        "zoo_path = os.path.join(data_dir, \"zoo.csv\")\n",
        "class_path = os.path.join(data_dir, \"class.csv\")\n",
        "\n",
        "zoo_df = pd.read_csv(zoo_path)\n",
        "class_df = pd.read_csv(class_path)\n",
        "\n",
        "# Merge on class_type\n",
        "zoo_df = zoo_df.merge(class_df, how=\"left\", left_on=\"class_type\", right_on=\"Class_Number\")\n",
        "\n",
        "# Drop the redundant numeric columns\n",
        "zoo_df = zoo_df.drop(columns=[\"class_type\", \"Class_Number\", \"Number_Of_Animal_Species_In_Class\", \"Animal_Names\"])\n",
        "\n",
        "# Rename for clarity\n",
        "zoo_df = zoo_df.rename(columns={\"Class_Type\": \"class_type\"})\n",
        "\n",
        "# Show dataset\n",
        "print(zoo_df.head())"
      ],
      "metadata": {
        "id": "NJtkkQXFhh1_",
        "outputId": "7b0741ca-e101-46ea-ec6f-b3786c126324",
        "colab": {
          "base_uri": "https://localhost:8080/"
        }
      },
      "execution_count": 11,
      "outputs": [
        {
          "output_type": "stream",
          "name": "stdout",
          "text": [
            "  animal_name  hair  feathers  eggs  milk  airborne  aquatic  predator  \\\n",
            "0    aardvark     1         0     0     1         0        0         1   \n",
            "1    antelope     1         0     0     1         0        0         0   \n",
            "2        bass     0         0     1     0         0        1         1   \n",
            "3        bear     1         0     0     1         0        0         1   \n",
            "4        boar     1         0     0     1         0        0         1   \n",
            "\n",
            "   toothed  backbone  breathes  venomous  fins  legs  tail  domestic  catsize  \\\n",
            "0        1         1         1         0     0     4     0         0        1   \n",
            "1        1         1         1         0     0     4     1         0        1   \n",
            "2        1         1         0         0     1     0     1         0        0   \n",
            "3        1         1         1         0     0     4     0         0        1   \n",
            "4        1         1         1         0     0     4     1         0        1   \n",
            "\n",
            "  class_type  \n",
            "0     Mammal  \n",
            "1     Mammal  \n",
            "2       Fish  \n",
            "3     Mammal  \n",
            "4     Mammal  \n"
          ]
        }
      ]
    },
    {
      "cell_type": "markdown",
      "source": [
        "### **PDP Plot**"
      ],
      "metadata": {
        "id": "tGuH4CwX68eK"
      }
    },
    {
      "cell_type": "code",
      "source": [],
      "metadata": {
        "id": "rStH2qYj7CSl"
      },
      "execution_count": null,
      "outputs": []
    },
    {
      "cell_type": "markdown",
      "source": [
        "*analysis of plots*"
      ],
      "metadata": {
        "id": "r9uItKG47NY0"
      }
    },
    {
      "cell_type": "markdown",
      "source": [
        "### **ICE Plot**"
      ],
      "metadata": {
        "id": "EsuzcxMu7Cyt"
      }
    },
    {
      "cell_type": "code",
      "source": [],
      "metadata": {
        "id": "NRf907GZ7HXS"
      },
      "execution_count": null,
      "outputs": []
    },
    {
      "cell_type": "markdown",
      "source": [
        "*analysis of plots*"
      ],
      "metadata": {
        "id": "hKysXpa27Xhz"
      }
    },
    {
      "cell_type": "markdown",
      "source": [
        "### **ALE Plot**"
      ],
      "metadata": {
        "id": "QbM64SAS7HrF"
      }
    },
    {
      "cell_type": "code",
      "source": [],
      "metadata": {
        "id": "dfgUka0M7LCJ"
      },
      "execution_count": null,
      "outputs": []
    },
    {
      "cell_type": "markdown",
      "source": [
        "*analysis of plots*"
      ],
      "metadata": {
        "id": "Wd6B_9SM7YIs"
      }
    },
    {
      "cell_type": "markdown",
      "source": [
        "### **Analysis**"
      ],
      "metadata": {
        "id": "zqVPd4tI7cAE"
      }
    },
    {
      "cell_type": "markdown",
      "source": [
        "*discussion of findings*"
      ],
      "metadata": {
        "id": "uN59_CBq7hRo"
      }
    }
  ],
  "metadata": {
    "language_info": {
      "name": "python"
    },
    "colab": {
      "provenance": []
    },
    "kernelspec": {
      "name": "python3",
      "display_name": "Python 3"
    }
  },
  "nbformat": 4,
  "nbformat_minor": 0
}