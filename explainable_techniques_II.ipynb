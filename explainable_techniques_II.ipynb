{
  "cells": [
    {
      "cell_type": "markdown",
      "metadata": {
        "id": "qisUgswkVmwq"
      },
      "source": [
        "# AIPI 590 - XAI | Explainable Techniques II\n",
        "### Exploratory analysis of a dataset to determine the amount of correlation between features\n",
        "### Mariam Khan\n",
        "\n",
        "[![Open In Collab](https://colab.research.google.com/assets/colab-badge.svg)](https://colab.research.google.com/github/Mkhan13/XAI/blob/explainable_ml/explainable_techniques_II.ipynb)"
      ]
    },
    {
      "cell_type": "code",
      "source": [
        "import os\n",
        "import pandas as pd\n",
        "\n",
        "repo_name = \"XAI\"\n",
        "branch_name = \"explainable_ml\"\n",
        "git_path = \"https://github.com/Mkhan13/XAI.git\"\n",
        "\n",
        "# If repo already exists, remove it first to avoid conflicts\n",
        "if os.path.exists(repo_name):\n",
        "    !rm -rf {repo_name}\n",
        "\n",
        "# Clone the branch\n",
        "!git clone -b {branch_name} {git_path}\n",
        "\n",
        "# Path to data folder\n",
        "data_dir = os.path.join(repo_name, \"data\", \"explainable_ml_II\")\n",
        "\n",
        "# Verify files exist\n",
        "print(\"Files in data folder:\", os.listdir(data_dir))\n",
        "\n",
        "# Load CSVs\n",
        "zoo_path = os.path.join(data_dir, \"zoo.csv\")\n",
        "class_path = os.path.join(data_dir, \"class.csv\")\n",
        "\n",
        "zoo_df = pd.read_csv(zoo_path)\n",
        "class_df = pd.read_csv(class_path)\n",
        "\n",
        "print(zoo_df.head())\n",
        "print(class_df.head())\n"
      ],
      "metadata": {
        "id": "dV_n-pk_UxRY",
        "outputId": "2eaf4014-8cde-4ba8-bc92-418d58eb9527",
        "colab": {
          "base_uri": "https://localhost:8080/"
        }
      },
      "execution_count": 5,
      "outputs": [
        {
          "output_type": "stream",
          "name": "stdout",
          "text": [
            "Cloning into 'XAI'...\n",
            "remote: Enumerating objects: 83, done.\u001b[K\n",
            "remote: Counting objects: 100% (83/83), done.\u001b[K\n",
            "remote: Compressing objects: 100% (78/78), done.\u001b[K\n",
            "remote: Total 83 (delta 27), reused 0 (delta 0), pack-reused 0 (from 0)\u001b[K\n",
            "Receiving objects: 100% (83/83), 1.22 MiB | 7.37 MiB/s, done.\n",
            "Resolving deltas: 100% (27/27), done.\n",
            "Files in data folder: ['zoo.csv', 'class.csv']\n",
            "\n",
            "=== zoo.csv ===\n",
            "  animal_name  hair  feathers  eggs  milk  airborne  aquatic  predator  \\\n",
            "0    aardvark     1         0     0     1         0        0         1   \n",
            "1    antelope     1         0     0     1         0        0         0   \n",
            "2        bass     0         0     1     0         0        1         1   \n",
            "3        bear     1         0     0     1         0        0         1   \n",
            "4        boar     1         0     0     1         0        0         1   \n",
            "\n",
            "   toothed  backbone  breathes  venomous  fins  legs  tail  domestic  catsize  \\\n",
            "0        1         1         1         0     0     4     0         0        1   \n",
            "1        1         1         1         0     0     4     1         0        1   \n",
            "2        1         1         0         0     1     0     1         0        0   \n",
            "3        1         1         1         0     0     4     0         0        1   \n",
            "4        1         1         1         0     0     4     1         0        1   \n",
            "\n",
            "   class_type  \n",
            "0           1  \n",
            "1           1  \n",
            "2           4  \n",
            "3           1  \n",
            "4           1  \n",
            "\n",
            "=== class.csv ===\n",
            "   Class_Number  Number_Of_Animal_Species_In_Class Class_Type  \\\n",
            "0             1                                 41     Mammal   \n",
            "1             2                                 20       Bird   \n",
            "2             3                                  5    Reptile   \n",
            "3             4                                 13       Fish   \n",
            "4             5                                  4  Amphibian   \n",
            "\n",
            "                                        Animal_Names  \n",
            "0  aardvark, antelope, bear, boar, buffalo, calf,...  \n",
            "1  chicken, crow, dove, duck, flamingo, gull, haw...  \n",
            "2    pitviper, seasnake, slowworm, tortoise, tuatara  \n",
            "3  bass, carp, catfish, chub, dogfish, haddock, h...  \n",
            "4                             frog, frog, newt, toad  \n"
          ]
        }
      ]
    },
    {
      "cell_type": "markdown",
      "source": [
        "### **PDP Plot**"
      ],
      "metadata": {
        "id": "tGuH4CwX68eK"
      }
    },
    {
      "cell_type": "code",
      "source": [],
      "metadata": {
        "id": "rStH2qYj7CSl"
      },
      "execution_count": null,
      "outputs": []
    },
    {
      "cell_type": "markdown",
      "source": [
        "*analysis of plots*"
      ],
      "metadata": {
        "id": "r9uItKG47NY0"
      }
    },
    {
      "cell_type": "markdown",
      "source": [
        "### **ICE Plot**"
      ],
      "metadata": {
        "id": "EsuzcxMu7Cyt"
      }
    },
    {
      "cell_type": "code",
      "source": [],
      "metadata": {
        "id": "NRf907GZ7HXS"
      },
      "execution_count": null,
      "outputs": []
    },
    {
      "cell_type": "markdown",
      "source": [
        "*analysis of plots*"
      ],
      "metadata": {
        "id": "hKysXpa27Xhz"
      }
    },
    {
      "cell_type": "markdown",
      "source": [
        "### **ALE Plot**"
      ],
      "metadata": {
        "id": "QbM64SAS7HrF"
      }
    },
    {
      "cell_type": "code",
      "source": [],
      "metadata": {
        "id": "dfgUka0M7LCJ"
      },
      "execution_count": null,
      "outputs": []
    },
    {
      "cell_type": "markdown",
      "source": [
        "*analysis of plots*"
      ],
      "metadata": {
        "id": "Wd6B_9SM7YIs"
      }
    },
    {
      "cell_type": "markdown",
      "source": [
        "### **Analysis**"
      ],
      "metadata": {
        "id": "zqVPd4tI7cAE"
      }
    },
    {
      "cell_type": "markdown",
      "source": [
        "*discussion of findings*"
      ],
      "metadata": {
        "id": "uN59_CBq7hRo"
      }
    }
  ],
  "metadata": {
    "language_info": {
      "name": "python"
    },
    "colab": {
      "provenance": []
    },
    "kernelspec": {
      "name": "python3",
      "display_name": "Python 3"
    }
  },
  "nbformat": 4,
  "nbformat_minor": 0
}